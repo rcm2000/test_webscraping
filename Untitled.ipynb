{
 "cells": [
  {
   "cell_type": "code",
   "execution_count": 1,
   "id": "14a4ff57",
   "metadata": {},
   "outputs": [],
   "source": [
    "from selenium import webdriver"
   ]
  },
  {
   "cell_type": "code",
   "execution_count": 2,
   "id": "0ecd0823",
   "metadata": {},
   "outputs": [],
   "source": [
    "browser = webdriver.Chrome('./chromedriver.exe')"
   ]
  },
  {
   "cell_type": "code",
   "execution_count": 3,
   "id": "5675f555",
   "metadata": {},
   "outputs": [],
   "source": [
    "browser.get('https://www.jobkorea.co.kr/')"
   ]
  },
  {
   "cell_type": "code",
   "execution_count": 4,
   "id": "fbce2ab4",
   "metadata": {},
   "outputs": [],
   "source": [
    "import time\n",
    "time.sleep(1)\n",
    "browser.find_element_by_css_selector('input#stext').send_keys('데이터 사이언스')\n",
    "browser.find_element_by_css_selector('input[type=\"submit\"]').click()"
   ]
  },
  {
   "cell_type": "code",
   "execution_count": 7,
   "id": "04b71c40",
   "metadata": {},
   "outputs": [],
   "source": [
    "html = browser.page_source"
   ]
  },
  {
   "cell_type": "code",
   "execution_count": 8,
   "id": "934f3b6a",
   "metadata": {},
   "outputs": [],
   "source": [
    "from bs4 import BeautifulSoup\n",
    "soup = BeautifulSoup(html,'html.parser')"
   ]
  },
  {
   "cell_type": "code",
   "execution_count": 16,
   "id": "c963ecfa",
   "metadata": {},
   "outputs": [],
   "source": [
    "jobs = soup.select('a.title.dev_view')"
   ]
  },
  {
   "cell_type": "code",
   "execution_count": 17,
   "id": "c13da0bb",
   "metadata": {},
   "outputs": [
    {
     "name": "stdout",
     "output_type": "stream",
     "text": [
      "데이터 사이언스 / 데이터 엔지니어 신입·경력사원 채용 공고\n",
      "데이터 사이언스 사업관리(사무보조) 계약직 채용\n",
      "[정규직] 각 분야별 데이터 사이언스 및 전산담당자 모집\n",
      "[에비드넷] 데이터사이언스팀 연구분석 담당자 채용\n",
      "AI/데이터사이언스 경력채용 (업계 최고 대우)\n",
      "2021년 연구개발인력 모집공고\n",
      "빅데이터/인공지능 국비지원교육 교육생 모집(교육비전액무료)\n",
      "[영등포구/대졸신입,경력자모집-SAS,R,SPSS] 금융정보 데이터 분석 담당자 모집\n",
      "2021년 2차 출연(연) 공동채용(정규직(수습)) (바이오 스테이션 플랫폼 연구개발)\n",
      "Data Scientist\n",
      "CDO경력 상시채용\n",
      "2021년 2차 출연(연) 공동채용(정규직(수습))\n",
      "Java Frontend / Android 개발 프리랜서 모집\n",
      "[IT] 글로벌 데이터 분석\n",
      "AI/빅데이터 분석(경력)\n",
      "AI/빅데이터 분석(신입)\n",
      "[그리드위즈] R&D 전문연구요원 모집 [병역특례]\n",
      "[글로벌마케팅센터] 이커머스 마케팅 오퍼레이션 경력사원 채용 (수요/재고관리)\n",
      "[글로벌마케팅센터] 이커머스 마케팅 오퍼레이션 경력사원 채용\n",
      "[Coupang Pay] Principal, Information Security Analysis (FinTech Security & Privacy)\n"
     ]
    }
   ],
   "source": [
    "for i in jobs:\n",
    "    print(i.text.strip())"
   ]
  },
  {
   "cell_type": "code",
   "execution_count": null,
   "id": "6840af70",
   "metadata": {},
   "outputs": [],
   "source": []
  }
 ],
 "metadata": {
  "kernelspec": {
   "display_name": "Python 3",
   "language": "python",
   "name": "python3"
  },
  "language_info": {
   "codemirror_mode": {
    "name": "ipython",
    "version": 3
   },
   "file_extension": ".py",
   "mimetype": "text/x-python",
   "name": "python",
   "nbconvert_exporter": "python",
   "pygments_lexer": "ipython3",
   "version": "3.6.4"
  }
 },
 "nbformat": 4,
 "nbformat_minor": 5
}
