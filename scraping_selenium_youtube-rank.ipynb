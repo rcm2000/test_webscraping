{
 "cells": [
  {
   "cell_type": "code",
   "execution_count": 1,
   "id": "b4496272",
   "metadata": {},
   "outputs": [],
   "source": [
    "from selenium import webdriver"
   ]
  },
  {
   "cell_type": "code",
   "execution_count": 2,
   "id": "77647308",
   "metadata": {},
   "outputs": [],
   "source": [
    "driver = webdriver.Chrome('./chromedriver')"
   ]
  },
  {
   "cell_type": "code",
   "execution_count": 3,
   "id": "940fe15c",
   "metadata": {},
   "outputs": [],
   "source": [
    "url = 'https://youtube-rank.com/board/bbs/board.php?bo_table=youtube'"
   ]
  },
  {
   "cell_type": "code",
   "execution_count": 4,
   "id": "a543ee20",
   "metadata": {},
   "outputs": [],
   "source": [
    "driver.get(url)"
   ]
  },
  {
   "cell_type": "code",
   "execution_count": 5,
   "id": "7fcf9eaa",
   "metadata": {},
   "outputs": [],
   "source": [
    "html = driver.page_source"
   ]
  },
  {
   "cell_type": "code",
   "execution_count": 9,
   "id": "0345c387",
   "metadata": {},
   "outputs": [],
   "source": [
    "import pandas as pd"
   ]
  },
  {
   "cell_type": "code",
   "execution_count": 10,
   "id": "1ac14093",
   "metadata": {},
   "outputs": [],
   "source": [
    "df1 = pd.read_html('https://youtube-rank.com/board/bbs/board.php?bo_table=youtube')"
   ]
  },
  {
   "cell_type": "code",
   "execution_count": 11,
   "id": "c2086868",
   "metadata": {
    "scrolled": true
   },
   "outputs": [
    {
     "data": {
      "text/html": [
       "<div>\n",
       "<style scoped>\n",
       "    .dataframe tbody tr th:only-of-type {\n",
       "        vertical-align: middle;\n",
       "    }\n",
       "\n",
       "    .dataframe tbody tr th {\n",
       "        vertical-align: top;\n",
       "    }\n",
       "\n",
       "    .dataframe thead th {\n",
       "        text-align: right;\n",
       "    }\n",
       "</style>\n",
       "<table border=\"1\" class=\"dataframe\">\n",
       "  <thead>\n",
       "    <tr style=\"text-align: right;\">\n",
       "      <th></th>\n",
       "      <th>순위</th>\n",
       "      <th>이미지</th>\n",
       "      <th>제목</th>\n",
       "      <th>구독자순</th>\n",
       "      <th>View순</th>\n",
       "      <th>Video순</th>\n",
       "      <th>조회수</th>\n",
       "    </tr>\n",
       "  </thead>\n",
       "  <tbody>\n",
       "    <tr>\n",
       "      <th>0</th>\n",
       "      <td>1</td>\n",
       "      <td>1</td>\n",
       "      <td>[음악/댄스/가수]  BLACKPINK 1 \"YG Entertainment\" YG ...</td>\n",
       "      <td>6240만</td>\n",
       "      <td>182억0966만</td>\n",
       "      <td>359개</td>\n",
       "      <td>13,273  HIT</td>\n",
       "    </tr>\n",
       "    <tr>\n",
       "      <th>1</th>\n",
       "      <td>2</td>\n",
       "      <td>2</td>\n",
       "      <td>[음악/댄스/가수]  HYBE LABELS 0 5770만174억6882만 625 6...</td>\n",
       "      <td>5770만</td>\n",
       "      <td>174억6882만</td>\n",
       "      <td>625개</td>\n",
       "      <td>6,401  HIT</td>\n",
       "    </tr>\n",
       "    <tr>\n",
       "      <th>2</th>\n",
       "      <td>3</td>\n",
       "      <td>3</td>\n",
       "      <td>[음악/댄스/가수]  BANGTANTV 0 BTS 방탄 방탄소년단 빅히트 BANGT...</td>\n",
       "      <td>5250만</td>\n",
       "      <td>108억4626만</td>\n",
       "      <td>1,511개</td>\n",
       "      <td>4,025  HIT</td>\n",
       "    </tr>\n",
       "    <tr>\n",
       "      <th>3</th>\n",
       "      <td>4</td>\n",
       "      <td>4</td>\n",
       "      <td>[음악/댄스/가수]  SMTOWN 0 SM SMENT SMTOWN SMENTERTA...</td>\n",
       "      <td>2800만</td>\n",
       "      <td>213억0391만</td>\n",
       "      <td>3,704개</td>\n",
       "      <td>2,563  HIT</td>\n",
       "    </tr>\n",
       "    <tr>\n",
       "      <th>4</th>\n",
       "      <td>5</td>\n",
       "      <td>5</td>\n",
       "      <td>[키즈/어린이]  Boram Tube Vlog [보람튜브 브이로그] 0 2650만1...</td>\n",
       "      <td>2650만</td>\n",
       "      <td>110억5288만</td>\n",
       "      <td>223개</td>\n",
       "      <td>8,438  HIT</td>\n",
       "    </tr>\n",
       "    <tr>\n",
       "      <th>...</th>\n",
       "      <td>...</td>\n",
       "      <td>...</td>\n",
       "      <td>...</td>\n",
       "      <td>...</td>\n",
       "      <td>...</td>\n",
       "      <td>...</td>\n",
       "      <td>...</td>\n",
       "    </tr>\n",
       "    <tr>\n",
       "      <th>95</th>\n",
       "      <td>96</td>\n",
       "      <td>96</td>\n",
       "      <td>[BJ/인물/연예인]  waveya 2011 0 waveya Waveya2011 \"...</td>\n",
       "      <td>373만</td>\n",
       "      <td>13억3838만</td>\n",
       "      <td>693개</td>\n",
       "      <td>7,860  HIT</td>\n",
       "    </tr>\n",
       "    <tr>\n",
       "      <th>96</th>\n",
       "      <td>97</td>\n",
       "      <td>97</td>\n",
       "      <td>[키즈/어린이]  Lime Tube[라임튜브] 0 라임캐스트 LimeTube \"인기...</td>\n",
       "      <td>371만</td>\n",
       "      <td>25억6908만</td>\n",
       "      <td>1,686개</td>\n",
       "      <td>2,347  HIT</td>\n",
       "    </tr>\n",
       "    <tr>\n",
       "      <th>97</th>\n",
       "      <td>99</td>\n",
       "      <td>99</td>\n",
       "      <td>[취미/라이프]  JaeYeol ASMR 재열 0 먹방 asmr mukbang \"j...</td>\n",
       "      <td>369만</td>\n",
       "      <td>9억5238만</td>\n",
       "      <td>943개</td>\n",
       "      <td>2,519  HIT</td>\n",
       "    </tr>\n",
       "    <tr>\n",
       "      <th>98</th>\n",
       "      <td>98</td>\n",
       "      <td>98</td>\n",
       "      <td>[음악/댄스/가수]  WINNER 0 WINNER 위너 TEAM YG WIN KAN...</td>\n",
       "      <td>369만</td>\n",
       "      <td>11억5350만</td>\n",
       "      <td>428개</td>\n",
       "      <td>1,539  HIT</td>\n",
       "    </tr>\n",
       "    <tr>\n",
       "      <th>99</th>\n",
       "      <td>100</td>\n",
       "      <td>100</td>\n",
       "      <td>[키즈/어린이]  Milana FamilyShow[EN] 0 Entertainmen...</td>\n",
       "      <td>362만</td>\n",
       "      <td>9억7161만</td>\n",
       "      <td>183개</td>\n",
       "      <td>1,497  HIT</td>\n",
       "    </tr>\n",
       "  </tbody>\n",
       "</table>\n",
       "<p>100 rows × 7 columns</p>\n",
       "</div>"
      ],
      "text/plain": [
       "     순위  이미지                                                 제목   구독자순  \\\n",
       "0     1    1  [음악/댄스/가수]  BLACKPINK 1 \"YG Entertainment\" YG ...  6240만   \n",
       "1     2    2  [음악/댄스/가수]  HYBE LABELS 0 5770만174억6882만 625 6...  5770만   \n",
       "2     3    3  [음악/댄스/가수]  BANGTANTV 0 BTS 방탄 방탄소년단 빅히트 BANGT...  5250만   \n",
       "3     4    4  [음악/댄스/가수]  SMTOWN 0 SM SMENT SMTOWN SMENTERTA...  2800만   \n",
       "4     5    5  [키즈/어린이]  Boram Tube Vlog [보람튜브 브이로그] 0 2650만1...  2650만   \n",
       "..  ...  ...                                                ...    ...   \n",
       "95   96   96  [BJ/인물/연예인]  waveya 2011 0 waveya Waveya2011 \"...   373만   \n",
       "96   97   97  [키즈/어린이]  Lime Tube[라임튜브] 0 라임캐스트 LimeTube \"인기...   371만   \n",
       "97   99   99  [취미/라이프]  JaeYeol ASMR 재열 0 먹방 asmr mukbang \"j...   369만   \n",
       "98   98   98  [음악/댄스/가수]  WINNER 0 WINNER 위너 TEAM YG WIN KAN...   369만   \n",
       "99  100  100  [키즈/어린이]  Milana FamilyShow[EN] 0 Entertainmen...   362만   \n",
       "\n",
       "        View순  Video순          조회수  \n",
       "0   182억0966만    359개  13,273  HIT  \n",
       "1   174억6882만    625개   6,401  HIT  \n",
       "2   108억4626만  1,511개   4,025  HIT  \n",
       "3   213억0391만  3,704개   2,563  HIT  \n",
       "4   110억5288만    223개   8,438  HIT  \n",
       "..        ...     ...          ...  \n",
       "95   13억3838만    693개   7,860  HIT  \n",
       "96   25억6908만  1,686개   2,347  HIT  \n",
       "97    9억5238만    943개   2,519  HIT  \n",
       "98   11억5350만    428개   1,539  HIT  \n",
       "99    9억7161만    183개   1,497  HIT  \n",
       "\n",
       "[100 rows x 7 columns]"
      ]
     },
     "execution_count": 11,
     "metadata": {},
     "output_type": "execute_result"
    }
   ],
   "source": [
    "df1[0]"
   ]
  },
  {
   "cell_type": "code",
   "execution_count": 6,
   "id": "2e2a9158",
   "metadata": {},
   "outputs": [],
   "source": [
    "from bs4 import BeautifulSoup as bs"
   ]
  },
  {
   "cell_type": "code",
   "execution_count": 7,
   "id": "88e7b56a",
   "metadata": {},
   "outputs": [],
   "source": [
    "soup = bs(html,'html.parser')"
   ]
  },
  {
   "cell_type": "code",
   "execution_count": 13,
   "id": "cc2e4f01",
   "metadata": {},
   "outputs": [],
   "source": [
    "contents = soup.select('tr.aos-init')"
   ]
  },
  {
   "cell_type": "code",
   "execution_count": 24,
   "id": "37a8d01a",
   "metadata": {},
   "outputs": [],
   "source": [
    "content = contents[0]"
   ]
  },
  {
   "cell_type": "code",
   "execution_count": 49,
   "id": "dbda80e6",
   "metadata": {},
   "outputs": [],
   "source": [
    "category = content.select('p.category')[0]"
   ]
  },
  {
   "cell_type": "code",
   "execution_count": 55,
   "id": "cea987bd",
   "metadata": {},
   "outputs": [
    {
     "data": {
      "text/plain": [
       "<p <a=\"\" class=\"category\" href=\"https://youtube-rank.com/board/bbs/board.php?bo_table=youtube&amp;sca=%EC%9D%8C%EC%95%85%2F%EB%8C%84%EC%8A%A4%2F%EA%B0%80%EC%88%98\">[음악/댄스/가수]\n",
       "                                \n",
       "                                </p>"
      ]
     },
     "execution_count": 55,
     "metadata": {},
     "output_type": "execute_result"
    }
   ],
   "source": [
    "category.text.strip()"
   ]
  },
  {
   "cell_type": "code",
   "execution_count": 56,
   "id": "490eeada",
   "metadata": {},
   "outputs": [],
   "source": [
    "title = content.select('h1 > a[href*=\"board\"]')[0]"
   ]
  },
  {
   "cell_type": "code",
   "execution_count": 59,
   "id": "66e935a6",
   "metadata": {
    "scrolled": true
   },
   "outputs": [
    {
     "data": {
      "text/plain": [
       "'BLACKPINK'"
      ]
     },
     "execution_count": 59,
     "metadata": {},
     "output_type": "execute_result"
    }
   ],
   "source": [
    "title.text.strip()"
   ]
  },
  {
   "cell_type": "code",
   "execution_count": 87,
   "id": "3f27fcda",
   "metadata": {},
   "outputs": [],
   "source": [
    "df2 = pd.DataFrame(a,columns = ['category','title'])"
   ]
  },
  {
   "cell_type": "code",
   "execution_count": 88,
   "id": "41e362d0",
   "metadata": {},
   "outputs": [],
   "source": [
    "df2.to_excel('./saves/youtube-rank.xls',index = False)"
   ]
  },
  {
   "cell_type": "code",
   "execution_count": 89,
   "id": "a78b8e83",
   "metadata": {},
   "outputs": [],
   "source": [
    "view = soup.select('tbody td.view_cnt')"
   ]
  },
  {
   "cell_type": "code",
   "execution_count": 90,
   "id": "46a49137",
   "metadata": {},
   "outputs": [],
   "source": [
    "video = soup.select('tbody td.video_cnt')"
   ]
  },
  {
   "cell_type": "code",
   "execution_count": 104,
   "id": "829199ed",
   "metadata": {},
   "outputs": [],
   "source": [
    "hit = soup.select('tbody td.hit strong')"
   ]
  },
  {
   "cell_type": "code",
   "execution_count": 93,
   "id": "2272a7b4",
   "metadata": {},
   "outputs": [
    {
     "data": {
      "text/plain": [
       "100"
      ]
     },
     "execution_count": 93,
     "metadata": {},
     "output_type": "execute_result"
    }
   ],
   "source": [
    "len(view)"
   ]
  },
  {
   "cell_type": "code",
   "execution_count": 106,
   "id": "e6a21414",
   "metadata": {},
   "outputs": [],
   "source": [
    "a = []\n",
    "for ct in contents:\n",
    "    category = ct.select('p.category')[0]\n",
    "    title = ct.select('h1 > a[href*=\"board\"]')[0]\n",
    "    a.append([category.text.strip(),title.text.strip()])\n"
   ]
  },
  {
   "cell_type": "code",
   "execution_count": 110,
   "id": "1fbf9e71",
   "metadata": {},
   "outputs": [],
   "source": [
    "b = []\n",
    "for i in range(len(hit)):\n",
    "    b.append([view[i].text.strip(),video[i].text.strip(),hit[i].text.strip()])"
   ]
  },
  {
   "cell_type": "code",
   "execution_count": 113,
   "id": "72d97123",
   "metadata": {},
   "outputs": [],
   "source": [
    "  df3 = pd.DataFrame(b,columns = ['view','video','조회수'])"
   ]
  },
  {
   "cell_type": "code",
   "execution_count": 116,
   "id": "c7e6ae70",
   "metadata": {},
   "outputs": [
    {
     "data": {
      "text/html": [
       "<div>\n",
       "<style scoped>\n",
       "    .dataframe tbody tr th:only-of-type {\n",
       "        vertical-align: middle;\n",
       "    }\n",
       "\n",
       "    .dataframe tbody tr th {\n",
       "        vertical-align: top;\n",
       "    }\n",
       "\n",
       "    .dataframe thead th {\n",
       "        text-align: right;\n",
       "    }\n",
       "</style>\n",
       "<table border=\"1\" class=\"dataframe\">\n",
       "  <thead>\n",
       "    <tr style=\"text-align: right;\">\n",
       "      <th></th>\n",
       "      <th>category</th>\n",
       "      <th>title</th>\n",
       "    </tr>\n",
       "  </thead>\n",
       "  <tbody>\n",
       "    <tr>\n",
       "      <th>0</th>\n",
       "      <td>[음악/댄스/가수]</td>\n",
       "      <td>BLACKPINK</td>\n",
       "    </tr>\n",
       "    <tr>\n",
       "      <th>1</th>\n",
       "      <td>[음악/댄스/가수]</td>\n",
       "      <td>HYBE LABELS</td>\n",
       "    </tr>\n",
       "    <tr>\n",
       "      <th>2</th>\n",
       "      <td>[음악/댄스/가수]</td>\n",
       "      <td>BANGTANTV</td>\n",
       "    </tr>\n",
       "    <tr>\n",
       "      <th>3</th>\n",
       "      <td>[음악/댄스/가수]</td>\n",
       "      <td>SMTOWN</td>\n",
       "    </tr>\n",
       "    <tr>\n",
       "      <th>4</th>\n",
       "      <td>[키즈/어린이]</td>\n",
       "      <td>Boram Tube Vlog [보람튜브 브이로그]</td>\n",
       "    </tr>\n",
       "    <tr>\n",
       "      <th>...</th>\n",
       "      <td>...</td>\n",
       "      <td>...</td>\n",
       "    </tr>\n",
       "    <tr>\n",
       "      <th>95</th>\n",
       "      <td>[BJ/인물/연예인]</td>\n",
       "      <td>waveya 2011</td>\n",
       "    </tr>\n",
       "    <tr>\n",
       "      <th>96</th>\n",
       "      <td>[키즈/어린이]</td>\n",
       "      <td>Lime Tube[라임튜브]</td>\n",
       "    </tr>\n",
       "    <tr>\n",
       "      <th>97</th>\n",
       "      <td>[취미/라이프]</td>\n",
       "      <td>JaeYeol ASMR 재열</td>\n",
       "    </tr>\n",
       "    <tr>\n",
       "      <th>98</th>\n",
       "      <td>[음악/댄스/가수]</td>\n",
       "      <td>WINNER</td>\n",
       "    </tr>\n",
       "    <tr>\n",
       "      <th>99</th>\n",
       "      <td>[키즈/어린이]</td>\n",
       "      <td>Milana FamilyShow[EN]</td>\n",
       "    </tr>\n",
       "  </tbody>\n",
       "</table>\n",
       "<p>100 rows × 2 columns</p>\n",
       "</div>"
      ],
      "text/plain": [
       "       category                        title\n",
       "0    [음악/댄스/가수]                    BLACKPINK\n",
       "1    [음악/댄스/가수]                  HYBE LABELS\n",
       "2    [음악/댄스/가수]                    BANGTANTV\n",
       "3    [음악/댄스/가수]                       SMTOWN\n",
       "4      [키즈/어린이]  Boram Tube Vlog [보람튜브 브이로그]\n",
       "..          ...                          ...\n",
       "95  [BJ/인물/연예인]                  waveya 2011\n",
       "96     [키즈/어린이]              Lime Tube[라임튜브]\n",
       "97     [취미/라이프]              JaeYeol ASMR 재열\n",
       "98   [음악/댄스/가수]                       WINNER\n",
       "99     [키즈/어린이]        Milana FamilyShow[EN]\n",
       "\n",
       "[100 rows x 2 columns]"
      ]
     },
     "execution_count": 116,
     "metadata": {},
     "output_type": "execute_result"
    }
   ],
   "source": [
    "df2"
   ]
  },
  {
   "cell_type": "code",
   "execution_count": 122,
   "id": "20d1547d",
   "metadata": {},
   "outputs": [],
   "source": [
    "df4 = pd.concat([df2,df3],axis=1)"
   ]
  },
  {
   "cell_type": "code",
   "execution_count": 123,
   "id": "1ae742fe",
   "metadata": {},
   "outputs": [
    {
     "data": {
      "text/html": [
       "<div>\n",
       "<style scoped>\n",
       "    .dataframe tbody tr th:only-of-type {\n",
       "        vertical-align: middle;\n",
       "    }\n",
       "\n",
       "    .dataframe tbody tr th {\n",
       "        vertical-align: top;\n",
       "    }\n",
       "\n",
       "    .dataframe thead th {\n",
       "        text-align: right;\n",
       "    }\n",
       "</style>\n",
       "<table border=\"1\" class=\"dataframe\">\n",
       "  <thead>\n",
       "    <tr style=\"text-align: right;\">\n",
       "      <th></th>\n",
       "      <th>category</th>\n",
       "      <th>title</th>\n",
       "      <th>view</th>\n",
       "      <th>video</th>\n",
       "      <th>조회수</th>\n",
       "    </tr>\n",
       "  </thead>\n",
       "  <tbody>\n",
       "    <tr>\n",
       "      <th>0</th>\n",
       "      <td>[음악/댄스/가수]</td>\n",
       "      <td>BLACKPINK</td>\n",
       "      <td>182억0966만</td>\n",
       "      <td>359개</td>\n",
       "      <td>13,273</td>\n",
       "    </tr>\n",
       "    <tr>\n",
       "      <th>1</th>\n",
       "      <td>[음악/댄스/가수]</td>\n",
       "      <td>HYBE LABELS</td>\n",
       "      <td>174억6882만</td>\n",
       "      <td>625개</td>\n",
       "      <td>6,401</td>\n",
       "    </tr>\n",
       "    <tr>\n",
       "      <th>2</th>\n",
       "      <td>[음악/댄스/가수]</td>\n",
       "      <td>BANGTANTV</td>\n",
       "      <td>108억4626만</td>\n",
       "      <td>1,511개</td>\n",
       "      <td>4,025</td>\n",
       "    </tr>\n",
       "    <tr>\n",
       "      <th>3</th>\n",
       "      <td>[음악/댄스/가수]</td>\n",
       "      <td>SMTOWN</td>\n",
       "      <td>213억0391만</td>\n",
       "      <td>3,704개</td>\n",
       "      <td>2,563</td>\n",
       "    </tr>\n",
       "    <tr>\n",
       "      <th>4</th>\n",
       "      <td>[키즈/어린이]</td>\n",
       "      <td>Boram Tube Vlog [보람튜브 브이로그]</td>\n",
       "      <td>110억5288만</td>\n",
       "      <td>223개</td>\n",
       "      <td>8,438</td>\n",
       "    </tr>\n",
       "    <tr>\n",
       "      <th>...</th>\n",
       "      <td>...</td>\n",
       "      <td>...</td>\n",
       "      <td>...</td>\n",
       "      <td>...</td>\n",
       "      <td>...</td>\n",
       "    </tr>\n",
       "    <tr>\n",
       "      <th>95</th>\n",
       "      <td>[BJ/인물/연예인]</td>\n",
       "      <td>waveya 2011</td>\n",
       "      <td>13억3838만</td>\n",
       "      <td>693개</td>\n",
       "      <td>7,860</td>\n",
       "    </tr>\n",
       "    <tr>\n",
       "      <th>96</th>\n",
       "      <td>[키즈/어린이]</td>\n",
       "      <td>Lime Tube[라임튜브]</td>\n",
       "      <td>25억6908만</td>\n",
       "      <td>1,686개</td>\n",
       "      <td>2,347</td>\n",
       "    </tr>\n",
       "    <tr>\n",
       "      <th>97</th>\n",
       "      <td>[취미/라이프]</td>\n",
       "      <td>JaeYeol ASMR 재열</td>\n",
       "      <td>9억5238만</td>\n",
       "      <td>943개</td>\n",
       "      <td>2,519</td>\n",
       "    </tr>\n",
       "    <tr>\n",
       "      <th>98</th>\n",
       "      <td>[음악/댄스/가수]</td>\n",
       "      <td>WINNER</td>\n",
       "      <td>11억5350만</td>\n",
       "      <td>428개</td>\n",
       "      <td>1,539</td>\n",
       "    </tr>\n",
       "    <tr>\n",
       "      <th>99</th>\n",
       "      <td>[키즈/어린이]</td>\n",
       "      <td>Milana FamilyShow[EN]</td>\n",
       "      <td>9억7161만</td>\n",
       "      <td>183개</td>\n",
       "      <td>1,497</td>\n",
       "    </tr>\n",
       "  </tbody>\n",
       "</table>\n",
       "<p>100 rows × 5 columns</p>\n",
       "</div>"
      ],
      "text/plain": [
       "       category                        title       view   video     조회수\n",
       "0    [음악/댄스/가수]                    BLACKPINK  182억0966만    359개  13,273\n",
       "1    [음악/댄스/가수]                  HYBE LABELS  174억6882만    625개   6,401\n",
       "2    [음악/댄스/가수]                    BANGTANTV  108억4626만  1,511개   4,025\n",
       "3    [음악/댄스/가수]                       SMTOWN  213억0391만  3,704개   2,563\n",
       "4      [키즈/어린이]  Boram Tube Vlog [보람튜브 브이로그]  110억5288만    223개   8,438\n",
       "..          ...                          ...        ...     ...     ...\n",
       "95  [BJ/인물/연예인]                  waveya 2011   13억3838만    693개   7,860\n",
       "96     [키즈/어린이]              Lime Tube[라임튜브]   25억6908만  1,686개   2,347\n",
       "97     [취미/라이프]              JaeYeol ASMR 재열    9억5238만    943개   2,519\n",
       "98   [음악/댄스/가수]                       WINNER   11억5350만    428개   1,539\n",
       "99     [키즈/어린이]        Milana FamilyShow[EN]    9억7161만    183개   1,497\n",
       "\n",
       "[100 rows x 5 columns]"
      ]
     },
     "execution_count": 123,
     "metadata": {},
     "output_type": "execute_result"
    }
   ],
   "source": [
    "df4"
   ]
  },
  {
   "cell_type": "code",
   "execution_count": 124,
   "id": "b151d673",
   "metadata": {},
   "outputs": [],
   "source": [
    "df4.to_excel('./saves/youtube-rank2.xls',index = False)"
   ]
  },
  {
   "cell_type": "code",
   "execution_count": null,
   "id": "952732e7",
   "metadata": {},
   "outputs": [],
   "source": []
  }
 ],
 "metadata": {
  "kernelspec": {
   "display_name": "Python 3",
   "language": "python",
   "name": "python3"
  },
  "language_info": {
   "codemirror_mode": {
    "name": "ipython",
    "version": 3
   },
   "file_extension": ".py",
   "mimetype": "text/x-python",
   "name": "python",
   "nbconvert_exporter": "python",
   "pygments_lexer": "ipython3",
   "version": "3.6.4"
  }
 },
 "nbformat": 4,
 "nbformat_minor": 5
}
