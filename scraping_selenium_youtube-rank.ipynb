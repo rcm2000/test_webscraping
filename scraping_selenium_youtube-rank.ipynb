{
 "cells": [
  {
   "cell_type": "code",
   "execution_count": 1,
   "id": "ab9299b2",
   "metadata": {},
   "outputs": [],
   "source": [
    "from selenium import webdriver"
   ]
  },
  {
   "cell_type": "code",
   "execution_count": 2,
   "id": "dc90b6f7",
   "metadata": {},
   "outputs": [],
   "source": [
    "driver = webdriver.Chrome('./chromedriver')"
   ]
  },
  {
   "cell_type": "code",
   "execution_count": 3,
   "id": "b9a750bf",
   "metadata": {},
   "outputs": [],
   "source": [
    "url = 'https://youtube-rank.com/board/bbs/board.php?bo_table=youtube'"
   ]
  },
  {
   "cell_type": "code",
   "execution_count": 4,
   "id": "c944927b",
   "metadata": {},
   "outputs": [],
   "source": [
    "driver.get(url)"
   ]
  },
  {
   "cell_type": "code",
   "execution_count": 5,
   "id": "d9ac78af",
   "metadata": {},
   "outputs": [],
   "source": [
    "html = driver.page_source"
   ]
  },
  {
   "cell_type": "code",
   "execution_count": 9,
   "id": "6adad3d7",
   "metadata": {},
   "outputs": [],
   "source": [
    "import pandas as pd"
   ]
  },
  {
   "cell_type": "code",
   "execution_count": 10,
   "id": "6de6b272",
   "metadata": {},
   "outputs": [],
   "source": [
    "df1 = pd.read_html('https://youtube-rank.com/board/bbs/board.php?bo_table=youtube')"
   ]
  },
  {
   "cell_type": "code",
   "execution_count": 11,
   "id": "b24a70e2",
   "metadata": {},
   "outputs": [
    {
     "data": {
      "text/html": [
       "<div>\n",
       "<style scoped>\n",
       "    .dataframe tbody tr th:only-of-type {\n",
       "        vertical-align: middle;\n",
       "    }\n",
       "\n",
       "    .dataframe tbody tr th {\n",
       "        vertical-align: top;\n",
       "    }\n",
       "\n",
       "    .dataframe thead th {\n",
       "        text-align: right;\n",
       "    }\n",
       "</style>\n",
       "<table border=\"1\" class=\"dataframe\">\n",
       "  <thead>\n",
       "    <tr style=\"text-align: right;\">\n",
       "      <th></th>\n",
       "      <th>순위</th>\n",
       "      <th>이미지</th>\n",
       "      <th>제목</th>\n",
       "      <th>구독자순</th>\n",
       "      <th>View순</th>\n",
       "      <th>Video순</th>\n",
       "      <th>조회수</th>\n",
       "    </tr>\n",
       "  </thead>\n",
       "  <tbody>\n",
       "    <tr>\n",
       "      <th>0</th>\n",
       "      <td>1</td>\n",
       "      <td>1</td>\n",
       "      <td>[음악/댄스/가수]  BLACKPINK 1 \"YG Entertainment\" YG ...</td>\n",
       "      <td>6240만</td>\n",
       "      <td>182억0966만</td>\n",
       "      <td>359개</td>\n",
       "      <td>13,273  HIT</td>\n",
       "    </tr>\n",
       "    <tr>\n",
       "      <th>1</th>\n",
       "      <td>2</td>\n",
       "      <td>2</td>\n",
       "      <td>[음악/댄스/가수]  HYBE LABELS 0 5770만174억6882만 625 6...</td>\n",
       "      <td>5770만</td>\n",
       "      <td>174억6882만</td>\n",
       "      <td>625개</td>\n",
       "      <td>6,401  HIT</td>\n",
       "    </tr>\n",
       "    <tr>\n",
       "      <th>2</th>\n",
       "      <td>3</td>\n",
       "      <td>3</td>\n",
       "      <td>[음악/댄스/가수]  BANGTANTV 0 BTS 방탄 방탄소년단 빅히트 BANGT...</td>\n",
       "      <td>5250만</td>\n",
       "      <td>108억4626만</td>\n",
       "      <td>1,511개</td>\n",
       "      <td>4,025  HIT</td>\n",
       "    </tr>\n",
       "    <tr>\n",
       "      <th>3</th>\n",
       "      <td>4</td>\n",
       "      <td>4</td>\n",
       "      <td>[음악/댄스/가수]  SMTOWN 0 SM SMENT SMTOWN SMENTERTA...</td>\n",
       "      <td>2800만</td>\n",
       "      <td>213억0391만</td>\n",
       "      <td>3,704개</td>\n",
       "      <td>2,563  HIT</td>\n",
       "    </tr>\n",
       "    <tr>\n",
       "      <th>4</th>\n",
       "      <td>5</td>\n",
       "      <td>5</td>\n",
       "      <td>[키즈/어린이]  Boram Tube Vlog [보람튜브 브이로그] 0 2650만1...</td>\n",
       "      <td>2650만</td>\n",
       "      <td>110억5288만</td>\n",
       "      <td>223개</td>\n",
       "      <td>8,438  HIT</td>\n",
       "    </tr>\n",
       "    <tr>\n",
       "      <th>...</th>\n",
       "      <td>...</td>\n",
       "      <td>...</td>\n",
       "      <td>...</td>\n",
       "      <td>...</td>\n",
       "      <td>...</td>\n",
       "      <td>...</td>\n",
       "      <td>...</td>\n",
       "    </tr>\n",
       "    <tr>\n",
       "      <th>95</th>\n",
       "      <td>96</td>\n",
       "      <td>96</td>\n",
       "      <td>[BJ/인물/연예인]  waveya 2011 0 waveya Waveya2011 \"...</td>\n",
       "      <td>373만</td>\n",
       "      <td>13억3838만</td>\n",
       "      <td>693개</td>\n",
       "      <td>7,860  HIT</td>\n",
       "    </tr>\n",
       "    <tr>\n",
       "      <th>96</th>\n",
       "      <td>97</td>\n",
       "      <td>97</td>\n",
       "      <td>[키즈/어린이]  Lime Tube[라임튜브] 0 라임캐스트 LimeTube \"인기...</td>\n",
       "      <td>371만</td>\n",
       "      <td>25억6908만</td>\n",
       "      <td>1,686개</td>\n",
       "      <td>2,347  HIT</td>\n",
       "    </tr>\n",
       "    <tr>\n",
       "      <th>97</th>\n",
       "      <td>99</td>\n",
       "      <td>99</td>\n",
       "      <td>[취미/라이프]  JaeYeol ASMR 재열 0 먹방 asmr mukbang \"j...</td>\n",
       "      <td>369만</td>\n",
       "      <td>9억5238만</td>\n",
       "      <td>943개</td>\n",
       "      <td>2,519  HIT</td>\n",
       "    </tr>\n",
       "    <tr>\n",
       "      <th>98</th>\n",
       "      <td>98</td>\n",
       "      <td>98</td>\n",
       "      <td>[음악/댄스/가수]  WINNER 0 WINNER 위너 TEAM YG WIN KAN...</td>\n",
       "      <td>369만</td>\n",
       "      <td>11억5350만</td>\n",
       "      <td>428개</td>\n",
       "      <td>1,539  HIT</td>\n",
       "    </tr>\n",
       "    <tr>\n",
       "      <th>99</th>\n",
       "      <td>100</td>\n",
       "      <td>100</td>\n",
       "      <td>[키즈/어린이]  Milana FamilyShow[EN] 0 Entertainmen...</td>\n",
       "      <td>362만</td>\n",
       "      <td>9억7161만</td>\n",
       "      <td>183개</td>\n",
       "      <td>1,497  HIT</td>\n",
       "    </tr>\n",
       "  </tbody>\n",
       "</table>\n",
       "<p>100 rows × 7 columns</p>\n",
       "</div>"
      ],
      "text/plain": [
       "     순위  이미지                                                 제목   구독자순  \\\n",
       "0     1    1  [음악/댄스/가수]  BLACKPINK 1 \"YG Entertainment\" YG ...  6240만   \n",
       "1     2    2  [음악/댄스/가수]  HYBE LABELS 0 5770만174억6882만 625 6...  5770만   \n",
       "2     3    3  [음악/댄스/가수]  BANGTANTV 0 BTS 방탄 방탄소년단 빅히트 BANGT...  5250만   \n",
       "3     4    4  [음악/댄스/가수]  SMTOWN 0 SM SMENT SMTOWN SMENTERTA...  2800만   \n",
       "4     5    5  [키즈/어린이]  Boram Tube Vlog [보람튜브 브이로그] 0 2650만1...  2650만   \n",
       "..  ...  ...                                                ...    ...   \n",
       "95   96   96  [BJ/인물/연예인]  waveya 2011 0 waveya Waveya2011 \"...   373만   \n",
       "96   97   97  [키즈/어린이]  Lime Tube[라임튜브] 0 라임캐스트 LimeTube \"인기...   371만   \n",
       "97   99   99  [취미/라이프]  JaeYeol ASMR 재열 0 먹방 asmr mukbang \"j...   369만   \n",
       "98   98   98  [음악/댄스/가수]  WINNER 0 WINNER 위너 TEAM YG WIN KAN...   369만   \n",
       "99  100  100  [키즈/어린이]  Milana FamilyShow[EN] 0 Entertainmen...   362만   \n",
       "\n",
       "        View순  Video순          조회수  \n",
       "0   182억0966만    359개  13,273  HIT  \n",
       "1   174억6882만    625개   6,401  HIT  \n",
       "2   108억4626만  1,511개   4,025  HIT  \n",
       "3   213억0391만  3,704개   2,563  HIT  \n",
       "4   110억5288만    223개   8,438  HIT  \n",
       "..        ...     ...          ...  \n",
       "95   13억3838만    693개   7,860  HIT  \n",
       "96   25억6908만  1,686개   2,347  HIT  \n",
       "97    9억5238만    943개   2,519  HIT  \n",
       "98   11억5350만    428개   1,539  HIT  \n",
       "99    9억7161만    183개   1,497  HIT  \n",
       "\n",
       "[100 rows x 7 columns]"
      ]
     },
     "execution_count": 11,
     "metadata": {},
     "output_type": "execute_result"
    }
   ],
   "source": [
    "df1[0]"
   ]
  },
  {
   "cell_type": "code",
   "execution_count": 6,
   "id": "0040f06c",
   "metadata": {},
   "outputs": [],
   "source": [
    "from bs4 import BeautifulSoup as bs"
   ]
  },
  {
   "cell_type": "code",
   "execution_count": 7,
   "id": "8d5cdec3",
   "metadata": {},
   "outputs": [],
   "source": [
    "soup = bs(html,'html.parser')"
   ]
  },
  {
   "cell_type": "code",
   "execution_count": 13,
   "id": "334d8c5c",
   "metadata": {},
   "outputs": [],
   "source": [
    "contents = soup.select('tr.aos-init')"
   ]
  },
  {
   "cell_type": "code",
   "execution_count": 24,
   "id": "6ecf4682",
   "metadata": {},
   "outputs": [],
   "source": [
    "content = contents[0]"
   ]
  },
  {
   "cell_type": "code",
   "execution_count": 49,
   "id": "ab6c6483",
   "metadata": {},
   "outputs": [],
   "source": [
    "category = content.select('p.category')[0]"
   ]
  },
  {
   "cell_type": "code",
   "execution_count": 55,
   "id": "b1416904",
   "metadata": {},
   "outputs": [
    {
     "data": {
      "text/plain": [
       "<p <a=\"\" class=\"category\" href=\"https://youtube-rank.com/board/bbs/board.php?bo_table=youtube&amp;sca=%EC%9D%8C%EC%95%85%2F%EB%8C%84%EC%8A%A4%2F%EA%B0%80%EC%88%98\">[음악/댄스/가수]\n",
       "                                \n",
       "                                </p>"
      ]
     },
     "execution_count": 55,
     "metadata": {},
     "output_type": "execute_result"
    }
   ],
   "source": [
    "category.text.strip()"
   ]
  },
  {
   "cell_type": "code",
   "execution_count": 56,
   "id": "820c2343",
   "metadata": {},
   "outputs": [],
   "source": [
    "title = content.select('h1 > a[href*=\"board\"]')[0]"
   ]
  },
  {
   "cell_type": "code",
   "execution_count": 59,
   "id": "b77d4a2d",
   "metadata": {
    "scrolled": true
   },
   "outputs": [
    {
     "data": {
      "text/plain": [
       "'BLACKPINK'"
      ]
     },
     "execution_count": 59,
     "metadata": {},
     "output_type": "execute_result"
    }
   ],
   "source": [
    "title.text.strip()"
   ]
  },
  {
   "cell_type": "code",
   "execution_count": 62,
   "id": "c2e9a296",
   "metadata": {},
   "outputs": [
    {
     "data": {
      "text/plain": [
       "[['[음악/댄스/가수]', 'BLACKPINK'],\n",
       " ['[음악/댄스/가수]', 'HYBE LABELS'],\n",
       " ['[음악/댄스/가수]', 'BANGTANTV'],\n",
       " ['[음악/댄스/가수]', 'SMTOWN'],\n",
       " ['[키즈/어린이]', 'Boram Tube Vlog [보람튜브 브이로그]'],\n",
       " ['[음악/댄스/가수]', '1MILLION Dance Studio'],\n",
       " ['[음악/댄스/가수]', '1theK (원더케이)'],\n",
       " ['[음악/댄스/가수]', 'JYP Entertainment'],\n",
       " ['[음악/댄스/가수]', 'Mnet K-POP'],\n",
       " ['[음악/댄스/가수]', 'JFlaMusic'],\n",
       " ['[TV/방송]', 'KBS WORLD TV'],\n",
       " ['[음악/댄스/가수]', 'officialpsy'],\n",
       " ['[음악/댄스/가수]', 'BIGBANG'],\n",
       " ['[음식/요리/레시피]', 'Jane ASMR 제인'],\n",
       " ['[음악/댄스/가수]', 'TWICE'],\n",
       " ['[키즈/어린이]', 'Nao FunFun'],\n",
       " ['[음악/댄스/가수]', 'Stone Music Entertainment'],\n",
       " ['[키즈/어린이]', 'DuDuPopTOY'],\n",
       " ['[TV/방송]', 'MBCkpop'],\n",
       " ['[키즈/어린이]', '서은이야기[SeoeunStory]'],\n",
       " ['[키즈/어린이]', '핑크퐁 (인기 동요・동화)'],\n",
       " ['[키즈/어린이]', 'Larva TUBA'],\n",
       " ['[키즈/어린이]', 'Toymong tv 토이몽TV'],\n",
       " ['[음식/요리/레시피]', 'Hongyu ASMR 홍유'],\n",
       " ['[미분류]', 'The Late Show with Stephen Colbert'],\n",
       " ['[뉴스/정치/사회]', 'MBCentertainment'],\n",
       " ['[음악/댄스/가수]', 'Mnet Official'],\n",
       " ['[음악/댄스/가수]', 'iKON'],\n",
       " ['[음악/댄스/가수]', 'EXO'],\n",
       " ['[미분류]', 'Nintendo'],\n",
       " ['[키즈/어린이]', 'MariAndKids'],\n",
       " ['[TV/방송]', 'M2'],\n",
       " ['[키즈/어린이]', 'SonicToy소닉토이'],\n",
       " ['[음식/요리/레시피]', '[햄지]Hamzy'],\n",
       " ['[음악/댄스/가수]', 'TOMORROW X TOGETHER OFFICIAL'],\n",
       " ['[해외]', 'Serie A'],\n",
       " ['[뉴스/정치/사회]', 'JTBC Entertainment'],\n",
       " ['[음악/댄스/가수]', 'Sungha Jung'],\n",
       " ['[음식/요리/레시피]', 'Travel Thirsty'],\n",
       " ['[음악/댄스/가수]', 'SEVENTEEN'],\n",
       " ['[음악/댄스/가수]', 'Stray Kids'],\n",
       " ['[음악/댄스/가수]', 'ALL THE K-POP'],\n",
       " ['[음악/댄스/가수]', 'YG ENTERTAINMENT'],\n",
       " ['[음악/댄스/가수]', '이지금 [IU Official]'],\n",
       " ['[TV/방송]', 'KBS Kpop'],\n",
       " ['[음식/요리/레시피]', '문복희 Eat with Boki'],\n",
       " ['[음악/댄스/가수]', 'GOT7'],\n",
       " ['[음악/댄스/가수]', 'MAMAMOO'],\n",
       " ['[음식/요리/레시피]', '쏘영 Ssoyoung'],\n",
       " ['[패션/미용]', 'PONY Syndrome'],\n",
       " ['[TV/방송]', 'tvN DRAMA'],\n",
       " ['[TV/방송]', '스브스케이팝 / SBS KPOP'],\n",
       " ['[회사/오피셜]', 'Samsung'],\n",
       " ['[TV/방송]', 'SBS Entertainment'],\n",
       " ['[키즈/어린이]', '스위트티비 SweetTV'],\n",
       " ['[TV/방송]', 'SBS Drama'],\n",
       " ['[음악/댄스/가수]', 'ITZY'],\n",
       " ['[음악/댄스/가수]', '2NE1'],\n",
       " ['[키즈/어린이]', '[장난감티비]TOYTV'],\n",
       " ['[키즈/어린이]', '미니특공대TV'],\n",
       " ['[키즈/어린이]', '콩순이 • 시크릿 쥬쥬 [Kongsuni • Secret Jouju]'],\n",
       " ['[BJ/인물/연예인]', '[Awesome Haeun]어썸하은'],\n",
       " ['[음식/요리/레시피]', \"백종원의 요리비책 Paik's Cuisine\"],\n",
       " ['[키즈/어린이]', 'ToyMart TV'],\n",
       " ['[음악/댄스/가수]', 'starshipTV'],\n",
       " ['[키즈/어린이]', '베이비버스 -인기 동요・동화'],\n",
       " ['[음악/댄스/가수]', 'BT21'],\n",
       " ['[뉴스/정치/사회]', 'SBS NOW / SBS 공식 채널'],\n",
       " ['[키즈/어린이]', 'TOY GUMA'],\n",
       " ['[TV/방송]', 'KBS Entertain'],\n",
       " ['[음식/요리/레시피]', '떵개떵'],\n",
       " ['[음식/요리/레시피]', '야미보이 Yummyboy'],\n",
       " ['[키즈/어린이]', '뽀로로(Pororo)'],\n",
       " ['[음식/요리/레시피]', '하루한끼 one meal a day'],\n",
       " ['[TV/방송]', 'MBCdrama'],\n",
       " ['[음악/댄스/가수]', 'ASTRO 아스트로'],\n",
       " ['[음악/댄스/가수]', 'Raon Lee'],\n",
       " ['[키즈/어린이]', '슈슈토이 Shushu ToysReview'],\n",
       " ['[음식/요리/레시피]', '[Dorothy]도로시'],\n",
       " ['[음악/댄스/가수]', 'Red Velvet'],\n",
       " ['[TV/방송]', '채널 NCT DAILY'],\n",
       " ['[음악/댄스/가수]', 'TREASURE (트레저)'],\n",
       " ['[음식/요리/레시피]', '푸메Fume'],\n",
       " ['[음식/요리/레시피]', 'Cooking tree 쿠킹트리'],\n",
       " ['[애완/반려동물]', 'SBS TV동물농장x애니멀봐'],\n",
       " ['[키즈/어린이]', 'With Kids Playground [위드키즈 놀이터]'],\n",
       " ['[키즈/어린이]', '로미유 스토리[Romiyu Story]'],\n",
       " ['[TV/방송]', 'JTBC Drama'],\n",
       " ['[음식/요리/레시피]', '까니짱 [ G-NI ]'],\n",
       " ['[키즈/어린이]', 'Evan Kids'],\n",
       " ['[BJ/인물/연예인]', '영국남자 Korean Englishman'],\n",
       " ['[음악/댄스/가수]', 'NCT'],\n",
       " ['[애완/반려동물]', '크림히어로즈'],\n",
       " ['[BJ/인물/연예인]', '허팝Heopop'],\n",
       " ['[BJ/인물/연예인]', '워크맨-Workman'],\n",
       " ['[BJ/인물/연예인]', 'waveya 2011'],\n",
       " ['[키즈/어린이]', 'Lime Tube[라임튜브]'],\n",
       " ['[취미/라이프]', 'JaeYeol ASMR 재열'],\n",
       " ['[음악/댄스/가수]', 'WINNER'],\n",
       " ['[키즈/어린이]', 'Milana FamilyShow[EN]']]"
      ]
     },
     "execution_count": 62,
     "metadata": {},
     "output_type": "execute_result"
    }
   ],
   "source": [
    "a = []\n",
    "for ct in contents:\n",
    "    category = ct.select('p.category')[0]\n",
    "    title = ct.select('h1 > a[href*=\"board\"]')[0]\n",
    "    a.append([category.text.strip(),title.text.strip()])\n",
    "a"
   ]
  },
  {
   "cell_type": "code",
   "execution_count": 67,
   "id": "f1e6ff6f",
   "metadata": {},
   "outputs": [],
   "source": [
    "df2 = pd.DataFrame(a,columns = ['category','title'])"
   ]
  },
  {
   "cell_type": "code",
   "execution_count": 70,
   "id": "9c918289",
   "metadata": {},
   "outputs": [],
   "source": [
    "df2.to_excel('./saves/youtube-rank.xls',index = False)"
   ]
  },
  {
   "cell_type": "code",
   "execution_count": null,
   "id": "c3407ebd",
   "metadata": {},
   "outputs": [],
   "source": []
  }
 ],
 "metadata": {
  "kernelspec": {
   "display_name": "Python 3",
   "language": "python",
   "name": "python3"
  },
  "language_info": {
   "codemirror_mode": {
    "name": "ipython",
    "version": 3
   },
   "file_extension": ".py",
   "mimetype": "text/x-python",
   "name": "python",
   "nbconvert_exporter": "python",
   "pygments_lexer": "ipython3",
   "version": "3.6.4"
  }
 },
 "nbformat": 4,
 "nbformat_minor": 5
}
