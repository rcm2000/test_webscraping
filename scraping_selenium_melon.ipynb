{
 "cells": [
  {
   "cell_type": "code",
   "execution_count": 1,
   "id": "f4b3b38d",
   "metadata": {},
   "outputs": [],
   "source": [
    "from selenium import webdriver"
   ]
  },
  {
   "cell_type": "code",
   "execution_count": 2,
   "id": "9dc27cfc",
   "metadata": {},
   "outputs": [],
   "source": [
    "browser = webdriver.Chrome('./chromedriver.exe')"
   ]
  },
  {
   "cell_type": "code",
   "execution_count": 3,
   "id": "83ce550c",
   "metadata": {},
   "outputs": [],
   "source": [
    "browser.get('https://www.melon.com/chart/index.htm')"
   ]
  },
  {
   "cell_type": "code",
   "execution_count": 4,
   "id": "2166b419",
   "metadata": {},
   "outputs": [],
   "source": [
    "html = browser.page_source"
   ]
  },
  {
   "cell_type": "code",
   "execution_count": 5,
   "id": "f1c46c7a",
   "metadata": {},
   "outputs": [],
   "source": [
    "from bs4 import BeautifulSoup as bs"
   ]
  },
  {
   "cell_type": "code",
   "execution_count": 7,
   "id": "112e90f8",
   "metadata": {},
   "outputs": [],
   "source": [
    "soup = bs(html, 'html.parser')"
   ]
  },
  {
   "cell_type": "code",
   "execution_count": 16,
   "id": "cc7087dc",
   "metadata": {},
   "outputs": [],
   "source": [
    "tags = soup.select('div.ellipsis.rank01> span > a')"
   ]
  },
  {
   "cell_type": "code",
   "execution_count": 18,
   "id": "36ef37c7",
   "metadata": {},
   "outputs": [
    {
     "name": "stdout",
     "output_type": "stream",
     "text": [
      "Next Level \n",
      "Butter \n",
      "헤픈 우연 \n",
      "치맛바람 (Chi Mat Ba Ram) \n",
      "Dun Dun Dance \n",
      "Peaches (Feat. Daniel Caesar & Giveon) \n",
      "롤린 (Rollin') \n",
      "Alcohol-Free \n",
      "라일락 \n",
      "ASAP \n",
      "운전만해 (We Ride) \n",
      "Dynamite \n",
      "Celebrity \n",
      "안녕 (Hello) \n",
      "비와 당신 \n",
      "상상더하기 \n",
      "상상더하기 \n",
      "사이렌 Remix (Feat. UNEDUCATED KID, Paul Blanco) \n",
      "Timeless \n",
      "내 손을 잡아 \n",
      "멜로디 \n",
      "밝게 빛나는 별이 되어 비춰줄게 \n",
      "신호등 \n",
      "마.피.아. In the morning \n",
      "라라라 \n",
      "LOVE DAY (2021) (바른연애 길잡이 X 양요섭, 정은지) \n",
      "밤하늘의 별을(2020) \n",
      "Savage Love (Laxed - Siren Beat) (BTS Remix) \n",
      "Lovesick Girls \n",
      "Coin \n",
      "Dolphin \n",
      "잠이 오질 않네요 \n",
      "내사람 \n",
      "에잇(Prod.&Feat. SUGA of BTS) \n",
      "아로하 \n",
      "작은 것들을 위한 시 (Boy With Luv) (Feat. Halsey) \n",
      "취기를 빌려 (취향저격 그녀 X 산들) \n",
      "Blueming \n",
      "On The Ground \n",
      "어떻게 이별까지 사랑하겠어, 널 사랑하는 거지 \n",
      "추억은 만남보다 이별에 남아 \n",
      "어푸 (Ah puh) \n",
      "VVS (Feat. JUSTHIS) (Prod. GroovyRoom) \n",
      "Off My Face \n",
      "Life Goes On \n",
      "나랑 같이 걸을래 (바른연애 길잡이 X 적재) \n",
      "그날에 나는 맘이 편했을까 \n",
      "봄날 \n",
      "12:45 (Stripped) \n",
      "2002 \n",
      "흔들리는 꽃들 속에서 네 샴푸향이 느껴진거야 \n",
      "METEOR \n",
      "모든 날, 모든 순간 (Every day, Every Moment) \n",
      "그냥 안아달란 말야 \n",
      "오래된 노래 \n",
      "너의 번호를 누르고 (Prod. 영화처럼) \n",
      "살짝 설렜어 (Nonstop) \n",
      "어떻게 지내 (Prod. By VAN.C) \n",
      "Memories \n",
      "이 밤을 빌려 말해요 (바른연애 길잡이 X 10CM) \n",
      "오늘도 빛나는 너에게 (To You My Light) (Feat.이라온) \n",
      "사실 나는 (Feat.전건호) \n",
      "늦은 밤 너의 집 앞 골목길에서 \n",
      "How You Like That \n",
      "추적이는 여름 비가 되어 \n",
      "힘든 건 사랑이 아니다 \n",
      "오늘따라 더 미운 그대가 \n",
      "체념 \n",
      "이렇게 좋아해 본 적이 없어요 \n",
      "살다가 \n",
      "Dance Monkey \n",
      "하루만 더 \n",
      "허리춤 \n",
      "다정히 내 이름을 부르면 \n",
      "너의 발걸음에 빛을 비춰줄게 (Prod. 조영수) \n",
      "이제 나만 믿어요 \n",
      "마음을 드려요 \n",
      "Love poem \n",
      "Paris In The Rain \n",
      "너를 만나 \n",
      "내 마음이 움찔했던 순간 (취향저격 그녀 X 규현) \n",
      "아이와 나의 바다 \n",
      "When We Disco (Duet with 선미) \n",
      "우린 어쩌다 헤어진 걸까 \n",
      "우리 왜 헤어져야 해 \n",
      "시작 \n",
      "Don't Start Now \n",
      "고백 (바른연애 길잡이 X 허각) \n",
      "Downtown Baby \n",
      "Maniac \n",
      "If You Love Me (Feat. 주헌 (몬스타엑스)) \n",
      "Ready to love \n",
      "함께 했는데 이별은 나 혼자인 거야 \n",
      "안녕 \n",
      "기다릴게 \n",
      "봄 안녕 봄 \n",
      "거짓말이라도 해서 널 보고싶어 \n",
      "내일이 오면 (Feat. 기리보이, BIG Naughty (서동현)) \n",
      "맛 (Hot Sauce) \n",
      "서울의 잠 못 이루는 밤 (Feat. 이수현) \n"
     ]
    }
   ],
   "source": [
    "for i in tags:\n",
    "    print(i['title'].strip('재생'))"
   ]
  },
  {
   "cell_type": "code",
   "execution_count": null,
   "id": "461a5435",
   "metadata": {},
   "outputs": [],
   "source": []
  }
 ],
 "metadata": {
  "kernelspec": {
   "display_name": "Python 3",
   "language": "python",
   "name": "python3"
  },
  "language_info": {
   "codemirror_mode": {
    "name": "ipython",
    "version": 3
   },
   "file_extension": ".py",
   "mimetype": "text/x-python",
   "name": "python",
   "nbconvert_exporter": "python",
   "pygments_lexer": "ipython3",
   "version": "3.6.4"
  }
 },
 "nbformat": 4,
 "nbformat_minor": 5
}
